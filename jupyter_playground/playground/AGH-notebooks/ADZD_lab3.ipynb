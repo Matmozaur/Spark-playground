{
 "cells": [
  {
   "cell_type": "markdown",
   "id": "8aef40f6",
   "metadata": {},
   "source": [
    "[1p.] Znajdź miasta w Polsce, w których średnie stężenie pyłu “pm10” było niższe niż maksymalne stężenie w Berlinie (w całym badanym okresie). Obliczenia wykonaj dla danych z kilku dni. Wyniki posortuj malejąco po stężeniu pm10.\n",
    "\n",
    "[1p.]Dla danych z wybranych kilku dni przedstaw w ujęciu godzinowym (wybierz czas UTC) najwyższe zanotowane stężenie pm25 w poszczególnych miastach z całego zbioru danych. Wyniki posortuj po rosnąco datach.\n",
    "\n",
    "[1p.] Znajdź ranking miast pod względem średniego zanieczyszczenia liczonego dla N najwyższych pomiarów pod względem “pm25” dla danych z kilku dni. Rozważ jedynie miasta, których nazwy składają się z małych i dużych liter alfabetu łacińskiego.\n",
    "Podpowiedź: Wykorzystaj window functions oraz `rlike`\n",
    "\n",
    "[1p.] Zwizualizuj na mapie średnie zanieczyszczenie w danym kraju dla wybranych kilku dni względem czasu (mapa + slider czasu albo zbiór klatek i animacja) dla wybranych państw.\n",
    "\n",
    "[3p.] Korzystanie z klastra dla dużych danych\n",
    "Proszę wykonać zadanie 1 dla danych z całego miesiąca. Zmierzyć czas wykonania\n",
    "Zwiększyć klaster do 2, 3, 4, 5, 6, 7 instancji workerów i zmierzyć czasy wykonania\n",
    "Narysować wykresy czasu, przyspieszenia i efektywności (time, speedup, efficiency)\n",
    "\n",
    "[1p.] Proszę wykonać przykładowe zapytanie dla danych z całego roku 2020. Załączyć wybrane wykresy ze Spark UI (https://spark.apache.org/docs/latest/web-ui.html), np. DAG, diagram Gantta, informacje o rozmiarach danych."
   ]
  },
  {
   "cell_type": "code",
   "execution_count": 2,
   "id": "b3241c7d",
   "metadata": {},
   "outputs": [],
   "source": [
    "from pyspark.sql import SparkSession, SQLContext\n",
    "from pyspark.conf import SparkConf\n",
    "\n",
    "spark = SparkSession.builder.getOrCreate()"
   ]
  },
  {
   "cell_type": "code",
   "execution_count": 3,
   "id": "71adc689",
   "metadata": {},
   "outputs": [],
   "source": [
    "from pyspark.sql import functions as F\n",
    "from pyspark.sql.window import Window\n",
    "from pyspark.sql.functions import regexp_replace\n",
    "from pyspark.sql.functions import substring, col, rank, mean, desc"
   ]
  },
  {
   "cell_type": "markdown",
   "id": "93413476-b3a3-44ab-8ae3-6394028c8973",
   "metadata": {},
   "source": [
    "### For the rest to work You have to first download data from this public s3 bucket"
   ]
  },
  {
   "cell_type": "code",
   "execution_count": 44,
   "id": "02161603",
   "metadata": {
    "scrolled": true
   },
   "outputs": [],
   "source": [
    "# smog_df = spark.read.json(\"s3a://openaq-fetches/realtime/2021-11-1[1-4]/*\")"
   ]
  },
  {
   "cell_type": "code",
   "execution_count": 7,
   "id": "10156a7e",
   "metadata": {},
   "outputs": [
    {
     "name": "stdout",
     "output_type": "stream",
     "text": [
      "+--------------------+---------------+-------+----------------+-------+--------------------+--------------------+------+---------+----------+----------+-----+-----+\n",
      "|         attribution|averagingPeriod|   city|     coordinates|country|                date|            location|mobile|parameter|sourceName|sourceType| unit|value|\n",
      "+--------------------+---------------+-------+----------------+-------+--------------------+--------------------+------+---------+----------+----------+-----+-----+\n",
      "|[{SPARTAN Network...|     {hours, 1}|Beijing|{40.01, 116.333}|     CN|{2013-11-28T12:00...|SPARTAN - Tsinghu...| false|     pm25|   Spartan|  research|µg/m³| 10.4|\n",
      "|[{SPARTAN Network...|     {hours, 1}|Beijing|{40.01, 116.333}|     CN|{2013-11-28T08:00...|SPARTAN - Tsinghu...| false|     pm25|   Spartan|  research|µg/m³| 17.4|\n",
      "|[{SPARTAN Network...|     {hours, 1}|Beijing|{40.01, 116.333}|     CN|{2013-11-28T17:00...|SPARTAN - Tsinghu...| false|     pm25|   Spartan|  research|µg/m³| 49.1|\n",
      "|[{SPARTAN Network...|     {hours, 1}|Beijing|{40.01, 116.333}|     CN|{2013-11-29T03:00...|SPARTAN - Tsinghu...| false|     pm25|   Spartan|  research|µg/m³|147.5|\n",
      "|[{SPARTAN Network...|     {hours, 1}|Beijing|{40.01, 116.333}|     CN|{2013-11-28T14:00...|SPARTAN - Tsinghu...| false|     pm25|   Spartan|  research|µg/m³| 11.0|\n",
      "+--------------------+---------------+-------+----------------+-------+--------------------+--------------------+------+---------+----------+----------+-----+-----+\n",
      "only showing top 5 rows\n",
      "\n"
     ]
    }
   ],
   "source": [
    "smog_df.show(5)"
   ]
  },
  {
   "cell_type": "code",
   "execution_count": 8,
   "id": "05b4e4e9",
   "metadata": {},
   "outputs": [
    {
     "data": {
      "text/plain": [
       "64"
      ]
     },
     "execution_count": 8,
     "metadata": {},
     "output_type": "execute_result"
    }
   ],
   "source": [
    "smog_df.count()"
   ]
  },
  {
   "cell_type": "code",
   "execution_count": 9,
   "id": "6f7bfbc6",
   "metadata": {},
   "outputs": [
    {
     "name": "stdout",
     "output_type": "stream",
     "text": [
      "['attribution', 'averagingPeriod', 'city', 'coordinates', 'country', 'date', 'location', 'mobile', 'parameter', 'sourceName', 'sourceType', 'unit', 'value']\n"
     ]
    }
   ],
   "source": [
    "print(smog_df.columns)"
   ]
  },
  {
   "cell_type": "code",
   "execution_count": 42,
   "id": "2eb851b6-ae42-41c9-b333-3729fd9600a3",
   "metadata": {},
   "outputs": [],
   "source": [
    "# smog_df['city'].distinct()"
   ]
  },
  {
   "cell_type": "markdown",
   "id": "b1c3bcda",
   "metadata": {},
   "source": [
    "# 1"
   ]
  },
  {
   "cell_type": "code",
   "execution_count": 10,
   "id": "c40a7aa5",
   "metadata": {},
   "outputs": [],
   "source": [
    "max_berlin = smog_df.filter(smog_df.city=='Berlin').filter(smog_df.parameter==\"pm10\").select([F.max(\"value\")])"
   ]
  },
  {
   "cell_type": "code",
   "execution_count": 11,
   "id": "faace9e7",
   "metadata": {},
   "outputs": [],
   "source": [
    "max_berlin = max_berlin.collect()"
   ]
  },
  {
   "cell_type": "code",
   "execution_count": 12,
   "id": "d4575da3",
   "metadata": {},
   "outputs": [],
   "source": [
    "max_berlin = max_berlin[0][0]"
   ]
  },
  {
   "cell_type": "code",
   "execution_count": 14,
   "id": "08a54bcd",
   "metadata": {},
   "outputs": [],
   "source": [
    "# sc.install_pypi_package(\"pandas==0.25.1\")"
   ]
  },
  {
   "cell_type": "code",
   "execution_count": 16,
   "id": "144d0575",
   "metadata": {},
   "outputs": [],
   "source": [
    "max_berlin"
   ]
  },
  {
   "cell_type": "code",
   "execution_count": 11,
   "id": "995f6f5b",
   "metadata": {},
   "outputs": [
    {
     "data": {
      "application/vnd.jupyter.widget-view+json": {
       "model_id": "b7331e75d6864af2b4128d07bf3b6f02",
       "version_major": 2,
       "version_minor": 0
      },
      "text/plain": [
       "VBox()"
      ]
     },
     "metadata": {},
     "output_type": "display_data"
    },
    {
     "data": {
      "application/vnd.jupyter.widget-view+json": {
       "model_id": "",
       "version_major": 2,
       "version_minor": 0
      },
      "text/plain": [
       "FloatProgress(value=0.0, bar_style='info', description='Progress:', layout=Layout(height='25px', width='50%'),…"
      ]
     },
     "metadata": {},
     "output_type": "display_data"
    },
    {
     "name": "stdout",
     "output_type": "stream",
     "text": [
      "+-------+\n",
      "|country|\n",
      "+-------+\n",
      "|     PT|\n",
      "|     PK|\n",
      "|     PL|\n",
      "|     PE|\n",
      "+-------+"
     ]
    }
   ],
   "source": [
    "smog_df.createOrReplaceTempView(\"smog_df\")\n",
    "\n",
    "spark.sql(\n",
    "    \"\"\"SELECT DISTINCT country\n",
    "    FROM smog_df\n",
    "    WHERE country LIKE \"P%\"\n",
    "    \"\"\").show()"
   ]
  },
  {
   "cell_type": "code",
   "execution_count": 21,
   "id": "edb0689f",
   "metadata": {},
   "outputs": [
    {
     "data": {
      "application/vnd.jupyter.widget-view+json": {
       "model_id": "1d309a4e798f4d12926c4e054e679142",
       "version_major": 2,
       "version_minor": 0
      },
      "text/plain": [
       "VBox()"
      ]
     },
     "metadata": {},
     "output_type": "display_data"
    },
    {
     "data": {
      "application/vnd.jupyter.widget-view+json": {
       "model_id": "",
       "version_major": 2,
       "version_minor": 0
      },
      "text/plain": [
       "FloatProgress(value=0.0, bar_style='info', description='Progress:', layout=Layout(height='25px', width='50%'),…"
      ]
     },
     "metadata": {},
     "output_type": "display_data"
    }
   ],
   "source": [
    "smog_df.createOrReplaceTempView(\"smog_df\")\n",
    "\n",
    "cleaner_cities = spark.sql(\n",
    "    \"\"\"SELECT city, mean(value) as mean_val\n",
    "    FROM smog_df\n",
    "    WHERE country = \"PL\" AND parameter = \"pm10\"\n",
    "    GROUP BY city\n",
    "    HAVING mean_val < {}\n",
    "    \"\"\".format(max_berlin))"
   ]
  },
  {
   "cell_type": "code",
   "execution_count": 22,
   "id": "1ca64caa",
   "metadata": {},
   "outputs": [
    {
     "data": {
      "application/vnd.jupyter.widget-view+json": {
       "model_id": "3264f4fac6f5489f8aded88268242141",
       "version_major": 2,
       "version_minor": 0
      },
      "text/plain": [
       "VBox()"
      ]
     },
     "metadata": {},
     "output_type": "display_data"
    },
    {
     "data": {
      "application/vnd.jupyter.widget-view+json": {
       "model_id": "",
       "version_major": 2,
       "version_minor": 0
      },
      "text/plain": [
       "FloatProgress(value=0.0, bar_style='info', description='Progress:', layout=Layout(height='25px', width='50%'),…"
      ]
     },
     "metadata": {},
     "output_type": "display_data"
    }
   ],
   "source": [
    "cleaner_cities = cleaner_cities.toPandas()"
   ]
  },
  {
   "cell_type": "code",
   "execution_count": 19,
   "id": "8d8f9ef1",
   "metadata": {
    "scrolled": true
   },
   "outputs": [
    {
     "data": {
      "application/vnd.jupyter.widget-view+json": {
       "model_id": "b5bf0c13d6e542d085bcc1113d08e260",
       "version_major": 2,
       "version_minor": 0
      },
      "text/plain": [
       "VBox()"
      ]
     },
     "metadata": {},
     "output_type": "display_data"
    },
    {
     "data": {
      "application/vnd.jupyter.widget-view+json": {
       "model_id": "",
       "version_major": 2,
       "version_minor": 0
      },
      "text/plain": [
       "FloatProgress(value=0.0, bar_style='info', description='Progress:', layout=Layout(height='25px', width='50%'),…"
      ]
     },
     "metadata": {},
     "output_type": "display_data"
    },
    {
     "name": "stdout",
     "output_type": "stream",
     "text": [
      "Rybnik\n",
      "Łódź\n",
      "Ustroń\n",
      "Nysa\n",
      "Gliwice\n",
      "Olsztyn\n",
      "Sosnowiec\n",
      "Radom\n",
      "Grajewo\n",
      "Kołobrzeg\n",
      "Radzyń Podlaski\n",
      "Sandomierz\n",
      "Nowa Ruda\n",
      "Kutno\n",
      "Żyrardów\n",
      "Zawiercie\n",
      "Żary\n",
      "Konin\n",
      "Jasło\n",
      "Złoty Potok\n",
      "Strzelce Opolskie\n",
      "Legionowo\n",
      "Mielec\n",
      "Racibórz\n",
      "Gubin\n",
      "Piła\n",
      "Lublin\n",
      "Gołuchów\n",
      "Ełk\n",
      "Belsk Duży\n",
      "Katowice\n",
      "Brzeg\n",
      "Kędzierzyn-Koźle\n",
      "Cieszyn\n",
      "Koziegłowy\n",
      "Wałbrzych\n",
      "Kielce\n",
      "Głubczyce\n",
      "Białystok\n",
      "Nisko\n",
      "Solec Kujawski\n",
      "Toruń\n",
      "Zabrze\n",
      "Ostróda\n",
      "Częstochowa\n",
      "Rabka-Zdrój\n",
      "Dąbrowa Górnicza\n",
      "Inowrocław\n",
      "Piastów\n",
      "Olesno\n",
      "Rymanów-Zdrój\n",
      "Sulęcin\n",
      "Tarnobrzeg\n",
      "Chełm\n",
      "Olkusz\n",
      "Włocławek\n",
      "Szczecinek\n",
      "Mszana Dolna\n",
      "Lubliniec\n",
      "Radomsko\n",
      "Tarnów\n",
      "Gajew\n",
      "Zdzieszowice\n",
      "Gołdap\n",
      "Szczecin\n",
      "Borsukowizna\n",
      "Wodzisław Śląski\n",
      "Trzebnica\n",
      "Piotrków Trybunalski\n",
      "Łomża\n",
      "Sopot\n",
      "Zamość\n",
      "Warszawa\n",
      "Dębica\n",
      "Krosno\n",
      "Elbląg\n",
      "Latoszyn\n",
      "Kostrza\n",
      "Nowiny\n",
      "Biskupiec\n",
      "Kłodzko\n",
      "Kościerzyna\n",
      "Koszalin\n",
      "Rzeszów\n",
      "Słupsk\n",
      "Konstancin-Jeziorna\n",
      "Gdańsk\n",
      "Lębork\n",
      "Łask\n",
      "Augustów\n",
      "Bydgoszcz\n",
      "Działoszyn\n",
      "Siedlce\n",
      "Malbork\n",
      "Borówiec\n",
      "Płock\n",
      "Zielona Góra\n",
      "Gdynia\n",
      "Opole\n",
      "Gorzów Wielkopolski\n",
      "Szymbark"
     ]
    }
   ],
   "source": [
    "for city in cleaner_cities['city']:\n",
    "    print(city)"
   ]
  },
  {
   "cell_type": "code",
   "execution_count": null,
   "id": "e48af681",
   "metadata": {},
   "outputs": [],
   "source": []
  },
  {
   "cell_type": "markdown",
   "id": "41bd1428",
   "metadata": {},
   "source": [
    "# 2"
   ]
  },
  {
   "cell_type": "code",
   "execution_count": 47,
   "id": "b4cf75e4",
   "metadata": {},
   "outputs": [
    {
     "data": {
      "application/vnd.jupyter.widget-view+json": {
       "model_id": "64fcb364fb614824a97ee4e619c262d6",
       "version_major": 2,
       "version_minor": 0
      },
      "text/plain": [
       "VBox()"
      ]
     },
     "metadata": {},
     "output_type": "display_data"
    },
    {
     "data": {
      "application/vnd.jupyter.widget-view+json": {
       "model_id": "",
       "version_major": 2,
       "version_minor": 0
      },
      "text/plain": [
       "FloatProgress(value=0.0, bar_style='info', description='Progress:', layout=Layout(height='25px', width='50%'),…"
      ]
     },
     "metadata": {},
     "output_type": "display_data"
    }
   ],
   "source": [
    "smog_df_pm25 = smog_df.filter(smog_df.parameter==\"pm25\")"
   ]
  },
  {
   "cell_type": "code",
   "execution_count": 48,
   "id": "03dd7235",
   "metadata": {},
   "outputs": [
    {
     "data": {
      "application/vnd.jupyter.widget-view+json": {
       "model_id": "ab64c0f478ef4bbb9a87d339dc13baa7",
       "version_major": 2,
       "version_minor": 0
      },
      "text/plain": [
       "VBox()"
      ]
     },
     "metadata": {},
     "output_type": "display_data"
    },
    {
     "data": {
      "application/vnd.jupyter.widget-view+json": {
       "model_id": "",
       "version_major": 2,
       "version_minor": 0
      },
      "text/plain": [
       "FloatProgress(value=0.0, bar_style='info', description='Progress:', layout=Layout(height='25px', width='50%'),…"
      ]
     },
     "metadata": {},
     "output_type": "display_data"
    }
   ],
   "source": [
    "smog_df_pm25 = smog_df.filter(smog_df.date.utc > \"2021-11-11\").filter(smog_df.date.utc < \"2021-11-15\")"
   ]
  },
  {
   "cell_type": "code",
   "execution_count": 49,
   "id": "4e5fde6f",
   "metadata": {},
   "outputs": [
    {
     "data": {
      "application/vnd.jupyter.widget-view+json": {
       "model_id": "f22c09d524384bcb89d39bedf4c436ae",
       "version_major": 2,
       "version_minor": 0
      },
      "text/plain": [
       "VBox()"
      ]
     },
     "metadata": {},
     "output_type": "display_data"
    },
    {
     "data": {
      "application/vnd.jupyter.widget-view+json": {
       "model_id": "",
       "version_major": 2,
       "version_minor": 0
      },
      "text/plain": [
       "FloatProgress(value=0.0, bar_style='info', description='Progress:', layout=Layout(height='25px', width='50%'),…"
      ]
     },
     "metadata": {},
     "output_type": "display_data"
    }
   ],
   "source": [
    "smog_df_pm25 = smog_df_pm25.withColumn(\"hour\", substring(F.col(\"date.utc\"), 0, 14))"
   ]
  },
  {
   "cell_type": "code",
   "execution_count": 19,
   "id": "a5382914",
   "metadata": {},
   "outputs": [
    {
     "data": {
      "application/vnd.jupyter.widget-view+json": {
       "model_id": "cef818a4c6064545ab7b40ca8b2eacf4",
       "version_major": 2,
       "version_minor": 0
      },
      "text/plain": [
       "VBox()"
      ]
     },
     "metadata": {},
     "output_type": "display_data"
    },
    {
     "data": {
      "application/vnd.jupyter.widget-view+json": {
       "model_id": "",
       "version_major": 2,
       "version_minor": 0
      },
      "text/plain": [
       "FloatProgress(value=0.0, bar_style='info', description='Progress:', layout=Layout(height='25px', width='50%'),…"
      ]
     },
     "metadata": {},
     "output_type": "display_data"
    }
   ],
   "source": [
    "group_smog_df_pm25 = smog_df_pm25.groupby([\"hour\", \"city\"]).max(\"value\")"
   ]
  },
  {
   "cell_type": "code",
   "execution_count": 20,
   "id": "4acb344f",
   "metadata": {},
   "outputs": [
    {
     "data": {
      "application/vnd.jupyter.widget-view+json": {
       "model_id": "459db3d827fc49a9bd122363c75a2b7b",
       "version_major": 2,
       "version_minor": 0
      },
      "text/plain": [
       "VBox()"
      ]
     },
     "metadata": {},
     "output_type": "display_data"
    },
    {
     "data": {
      "application/vnd.jupyter.widget-view+json": {
       "model_id": "",
       "version_major": 2,
       "version_minor": 0
      },
      "text/plain": [
       "FloatProgress(value=0.0, bar_style='info', description='Progress:', layout=Layout(height='25px', width='50%'),…"
      ]
     },
     "metadata": {},
     "output_type": "display_data"
    }
   ],
   "source": [
    "group_smog_df_pm25 = group_smog_df_pm25.orderBy('hour', ascending=1)"
   ]
  },
  {
   "cell_type": "code",
   "execution_count": 21,
   "id": "a7a9baa8",
   "metadata": {},
   "outputs": [
    {
     "data": {
      "application/vnd.jupyter.widget-view+json": {
       "model_id": "25ec91a8a1cd47f3b38320873b5d5926",
       "version_major": 2,
       "version_minor": 0
      },
      "text/plain": [
       "VBox()"
      ]
     },
     "metadata": {},
     "output_type": "display_data"
    },
    {
     "data": {
      "application/vnd.jupyter.widget-view+json": {
       "model_id": "",
       "version_major": 2,
       "version_minor": 0
      },
      "text/plain": [
       "FloatProgress(value=0.0, bar_style='info', description='Progress:', layout=Layout(height='25px', width='50%'),…"
      ]
     },
     "metadata": {},
     "output_type": "display_data"
    },
    {
     "name": "stdout",
     "output_type": "stream",
     "text": [
      "+--------------+--------------------+-----------+\n",
      "|          hour|                city| max(value)|\n",
      "+--------------+--------------------+-----------+\n",
      "|2021-11-11T00:|             Baraboo|       17.0|\n",
      "|2021-11-11T00:|                Lodi|    673.592|\n",
      "|2021-11-11T00:|        South Dublin|      12.04|\n",
      "|2021-11-11T00:|              Vaslui|24.20434492|\n",
      "|2021-11-11T00:|        Indianapolis|       52.0|\n",
      "|2021-11-11T00:|  São Caetano do Sul|       42.0|\n",
      "|2021-11-11T00:|        Jacksonville|       11.4|\n",
      "|2021-11-11T00:|Rio Claro-Jd.Guan...|       51.0|\n",
      "|2021-11-11T00:|              Hessen|      900.0|\n",
      "|2021-11-11T00:|         Carapicuíba|       34.0|\n",
      "|2021-11-11T00:|                Arad|26.70674405|\n",
      "|2021-11-11T00:|              Bexley|       40.8|\n",
      "|2021-11-11T00:|                Gard|       38.6|\n",
      "|2021-11-11T00:|              DENVER|       17.0|\n",
      "|2021-11-11T00:|           Fairbanks|       11.0|\n",
      "|2021-11-11T00:|            Cadillac|        6.0|\n",
      "|2021-11-11T00:|            SHOSHONE|       31.0|\n",
      "|2021-11-11T00:|             Memphis|       14.8|\n",
      "|2021-11-11T00:|Dunlaoghaire-Rath...|      20.74|\n",
      "|2021-11-11T00:|           Khon Kaen|       56.0|\n",
      "+--------------+--------------------+-----------+\n",
      "only showing top 20 rows"
     ]
    }
   ],
   "source": [
    "group_smog_df_pm25.show()"
   ]
  },
  {
   "cell_type": "code",
   "execution_count": null,
   "id": "3d412303",
   "metadata": {},
   "outputs": [],
   "source": []
  },
  {
   "cell_type": "markdown",
   "id": "27f33022",
   "metadata": {},
   "source": [
    "# 3"
   ]
  },
  {
   "cell_type": "code",
   "execution_count": 50,
   "id": "e4dcbc57",
   "metadata": {},
   "outputs": [
    {
     "data": {
      "application/vnd.jupyter.widget-view+json": {
       "model_id": "236e245bf1ee44a6b4b9ec0c14ef17fb",
       "version_major": 2,
       "version_minor": 0
      },
      "text/plain": [
       "VBox()"
      ]
     },
     "metadata": {},
     "output_type": "display_data"
    },
    {
     "data": {
      "application/vnd.jupyter.widget-view+json": {
       "model_id": "",
       "version_major": 2,
       "version_minor": 0
      },
      "text/plain": [
       "FloatProgress(value=0.0, bar_style='info', description='Progress:', layout=Layout(height='25px', width='50%'),…"
      ]
     },
     "metadata": {},
     "output_type": "display_data"
    }
   ],
   "source": [
    "N = 5"
   ]
  },
  {
   "cell_type": "code",
   "execution_count": 51,
   "id": "e51cedfc",
   "metadata": {},
   "outputs": [
    {
     "data": {
      "application/vnd.jupyter.widget-view+json": {
       "model_id": "79363fd5637e431d83083b41ee534c9a",
       "version_major": 2,
       "version_minor": 0
      },
      "text/plain": [
       "VBox()"
      ]
     },
     "metadata": {},
     "output_type": "display_data"
    },
    {
     "data": {
      "application/vnd.jupyter.widget-view+json": {
       "model_id": "",
       "version_major": 2,
       "version_minor": 0
      },
      "text/plain": [
       "FloatProgress(value=0.0, bar_style='info', description='Progress:', layout=Layout(height='25px', width='50%'),…"
      ]
     },
     "metadata": {},
     "output_type": "display_data"
    }
   ],
   "source": [
    "smog_df_pm25 = smog_df_pm25.filter(smog_df_pm25.city.rlike(\"[A-Za-z ]\"))"
   ]
  },
  {
   "cell_type": "code",
   "execution_count": 52,
   "id": "d09c1d57",
   "metadata": {},
   "outputs": [
    {
     "data": {
      "application/vnd.jupyter.widget-view+json": {
       "model_id": "e2a32c27a7b14674a445a700c14a9470",
       "version_major": 2,
       "version_minor": 0
      },
      "text/plain": [
       "VBox()"
      ]
     },
     "metadata": {},
     "output_type": "display_data"
    },
    {
     "data": {
      "application/vnd.jupyter.widget-view+json": {
       "model_id": "",
       "version_major": 2,
       "version_minor": 0
      },
      "text/plain": [
       "FloatProgress(value=0.0, bar_style='info', description='Progress:', layout=Layout(height='25px', width='50%'),…"
      ]
     },
     "metadata": {},
     "output_type": "display_data"
    }
   ],
   "source": [
    "window = Window.partitionBy(smog_df_pm25['city']).orderBy(smog_df_pm25['value'].desc())\n",
    "\n",
    "smog_df_pm25 = smog_df_pm25.select('*', rank().over(window).alias('rank')).filter(col('rank') <= 5)"
   ]
  },
  {
   "cell_type": "code",
   "execution_count": 55,
   "id": "59af292a",
   "metadata": {},
   "outputs": [
    {
     "data": {
      "application/vnd.jupyter.widget-view+json": {
       "model_id": "c6c2f5660f044a4cb219faed4885dec6",
       "version_major": 2,
       "version_minor": 0
      },
      "text/plain": [
       "VBox()"
      ]
     },
     "metadata": {},
     "output_type": "display_data"
    },
    {
     "data": {
      "application/vnd.jupyter.widget-view+json": {
       "model_id": "",
       "version_major": 2,
       "version_minor": 0
      },
      "text/plain": [
       "FloatProgress(value=0.0, bar_style='info', description='Progress:', layout=Layout(height='25px', width='50%'),…"
      ]
     },
     "metadata": {},
     "output_type": "display_data"
    }
   ],
   "source": [
    "smog_df_pm25 = smog_df_pm25.groupBy(\"city\").agg(mean(\"value\").alias(\"avg_top_N\"))"
   ]
  },
  {
   "cell_type": "code",
   "execution_count": 56,
   "id": "fde45ed6",
   "metadata": {},
   "outputs": [
    {
     "data": {
      "application/vnd.jupyter.widget-view+json": {
       "model_id": "aa00b0ee21484fce8992959811e476ee",
       "version_major": 2,
       "version_minor": 0
      },
      "text/plain": [
       "VBox()"
      ]
     },
     "metadata": {},
     "output_type": "display_data"
    },
    {
     "data": {
      "application/vnd.jupyter.widget-view+json": {
       "model_id": "",
       "version_major": 2,
       "version_minor": 0
      },
      "text/plain": [
       "FloatProgress(value=0.0, bar_style='info', description='Progress:', layout=Layout(height='25px', width='50%'),…"
      ]
     },
     "metadata": {},
     "output_type": "display_data"
    }
   ],
   "source": [
    "smog_df_pm25 = smog_df_pm25.orderBy(desc(\"avg_top_N\"))"
   ]
  },
  {
   "cell_type": "code",
   "execution_count": 57,
   "id": "c29224e5",
   "metadata": {},
   "outputs": [
    {
     "data": {
      "application/vnd.jupyter.widget-view+json": {
       "model_id": "a1f4eb80e8814466b0340f3974991313",
       "version_major": 2,
       "version_minor": 0
      },
      "text/plain": [
       "VBox()"
      ]
     },
     "metadata": {},
     "output_type": "display_data"
    },
    {
     "data": {
      "application/vnd.jupyter.widget-view+json": {
       "model_id": "",
       "version_major": 2,
       "version_minor": 0
      },
      "text/plain": [
       "FloatProgress(value=0.0, bar_style='info', description='Progress:', layout=Layout(height='25px', width='50%'),…"
      ]
     },
     "metadata": {},
     "output_type": "display_data"
    },
    {
     "name": "stdout",
     "output_type": "stream",
     "text": [
      "+--------------------+-----------------+\n",
      "|                city|        avg_top_N|\n",
      "+--------------------+-----------------+\n",
      "|               Delhi|          11202.0|\n",
      "|                Pali|9999.899999999998|\n",
      "|           Faridabad|           9880.0|\n",
      "|           Ghaziabad|           9874.0|\n",
      "|Zaječarski upravn...|          9535.85|\n",
      "|Pčinjski upravni ...|           9330.5|\n",
      "|             Lucknow|           9174.0|\n",
      "|              Mumbai|           8412.0|\n",
      "|           Moradabad|           8358.0|\n",
      "|              Kanpur|8316.960000000001|\n",
      "|          Ballabgarh|           8312.0|\n",
      "|               Noida|           8308.0|\n",
      "|             Udaipur|           7902.0|\n",
      "|            Gurugram|           7630.0|\n",
      "|                Agra|           7520.0|\n",
      "|             Chennai|           6900.0|\n",
      "|Rasinski upravni ...|6840.989999999999|\n",
      "|              Jaipur|6583.333333333333|\n",
      "|         Muzaffarpur|           6020.0|\n",
      "|       Greater Noida|           5970.0|\n",
      "+--------------------+-----------------+\n",
      "only showing top 20 rows"
     ]
    }
   ],
   "source": [
    "smog_df_pm25.show()"
   ]
  },
  {
   "cell_type": "code",
   "execution_count": null,
   "id": "4d2416e0",
   "metadata": {},
   "outputs": [],
   "source": []
  },
  {
   "cell_type": "markdown",
   "id": "d61989ff",
   "metadata": {},
   "source": [
    "# 4"
   ]
  },
  {
   "cell_type": "code",
   "execution_count": null,
   "id": "b4485340",
   "metadata": {},
   "outputs": [],
   "source": []
  },
  {
   "cell_type": "code",
   "execution_count": null,
   "id": "2bc59499",
   "metadata": {},
   "outputs": [],
   "source": []
  },
  {
   "cell_type": "code",
   "execution_count": null,
   "id": "04a48af5",
   "metadata": {},
   "outputs": [],
   "source": []
  },
  {
   "cell_type": "code",
   "execution_count": null,
   "id": "89b4447c",
   "metadata": {},
   "outputs": [],
   "source": []
  },
  {
   "cell_type": "markdown",
   "id": "4583c9ce",
   "metadata": {},
   "source": [
    "# 5"
   ]
  },
  {
   "cell_type": "code",
   "execution_count": 7,
   "id": "04900c75",
   "metadata": {},
   "outputs": [
    {
     "data": {
      "application/vnd.jupyter.widget-view+json": {
       "model_id": "a087a9c7c31042919261dcde34d9a6f0",
       "version_major": 2,
       "version_minor": 0
      },
      "text/plain": [
       "VBox()"
      ]
     },
     "metadata": {},
     "output_type": "display_data"
    },
    {
     "data": {
      "application/vnd.jupyter.widget-view+json": {
       "model_id": "",
       "version_major": 2,
       "version_minor": 0
      },
      "text/plain": [
       "FloatProgress(value=0.0, bar_style='info', description='Progress:', layout=Layout(height='25px', width='50%'),…"
      ]
     },
     "metadata": {},
     "output_type": "display_data"
    }
   ],
   "source": [
    "import time"
   ]
  },
  {
   "cell_type": "code",
   "execution_count": 11,
   "id": "838667ba",
   "metadata": {},
   "outputs": [
    {
     "data": {
      "application/vnd.jupyter.widget-view+json": {
       "model_id": "41dbd757a96d41de9c2e313355ee2b2f",
       "version_major": 2,
       "version_minor": 0
      },
      "text/plain": [
       "VBox()"
      ]
     },
     "metadata": {},
     "output_type": "display_data"
    },
    {
     "data": {
      "application/vnd.jupyter.widget-view+json": {
       "model_id": "",
       "version_major": 2,
       "version_minor": 0
      },
      "text/plain": [
       "FloatProgress(value=0.0, bar_style='info', description='Progress:', layout=Layout(height='25px', width='50%'),…"
      ]
     },
     "metadata": {},
     "output_type": "display_data"
    }
   ],
   "source": [
    "def runtime_first():\n",
    "    start = time.time()\n",
    "    max_berlin = smog_df.filter(smog_df.city=='Berlin').filter(smog_df.parameter==\"pm10\").select([F.max(\"value\")])\n",
    "    max_berlin = max_berlin.collect()\n",
    "    max_berlin = max_berlin[0][0]\n",
    "    smog_df.createOrReplaceTempView(\"smog_df\")\n",
    "\n",
    "    cleaner_cities = spark.sql(\n",
    "        \"\"\"SELECT city, mean(value) as mean_val\n",
    "        FROM smog_df\n",
    "        WHERE country = \"PL\" AND parameter = \"pm10\"\n",
    "        GROUP BY city\n",
    "        HAVING mean_val < {}\n",
    "        \"\"\".format(max_berlin))\n",
    "    cleaner_cities = cleaner_cities.toPandas()\n",
    "    return time.time() - start"
   ]
  },
  {
   "cell_type": "code",
   "execution_count": 12,
   "id": "f0179840",
   "metadata": {},
   "outputs": [
    {
     "data": {
      "application/vnd.jupyter.widget-view+json": {
       "model_id": "184f064b4b4c435da995f912520d4804",
       "version_major": 2,
       "version_minor": 0
      },
      "text/plain": [
       "VBox()"
      ]
     },
     "metadata": {},
     "output_type": "display_data"
    },
    {
     "data": {
      "application/vnd.jupyter.widget-view+json": {
       "model_id": "",
       "version_major": 2,
       "version_minor": 0
      },
      "text/plain": [
       "FloatProgress(value=0.0, bar_style='info', description='Progress:', layout=Layout(height='25px', width='50%'),…"
      ]
     },
     "metadata": {},
     "output_type": "display_data"
    },
    {
     "name": "stdout",
     "output_type": "stream",
     "text": [
      "127.22233605384827"
     ]
    }
   ],
   "source": [
    "runtime_first()"
   ]
  },
  {
   "cell_type": "code",
   "execution_count": 13,
   "id": "29848114",
   "metadata": {},
   "outputs": [
    {
     "data": {
      "application/vnd.jupyter.widget-view+json": {
       "model_id": "cdee0771f6a0455287144e76179289b3",
       "version_major": 2,
       "version_minor": 0
      },
      "text/plain": [
       "VBox()"
      ]
     },
     "metadata": {},
     "output_type": "display_data"
    },
    {
     "data": {
      "application/vnd.jupyter.widget-view+json": {
       "model_id": "",
       "version_major": 2,
       "version_minor": 0
      },
      "text/plain": [
       "FloatProgress(value=0.0, bar_style='info', description='Progress:', layout=Layout(height='25px', width='50%'),…"
      ]
     },
     "metadata": {},
     "output_type": "display_data"
    }
   ],
   "source": [
    "times_to_workers = {\n",
    "    1: 127.22233605384827,\n",
    "    2: 78.24606966972351,\n",
    "    3: 62.00518345832825,\n",
    "    4: 54.501880407333374,\n",
    "    5: 49.552902936935425,\n",
    "    6: 48.22799110412598,\n",
    "    7: 42.94867563247681,\n",
    "}"
   ]
  },
  {
   "cell_type": "markdown",
   "id": "ba4f427d",
   "metadata": {},
   "source": [
    "Wykresy:"
   ]
  },
  {
   "cell_type": "code",
   "execution_count": 15,
   "id": "06715608",
   "metadata": {},
   "outputs": [
    {
     "data": {
      "image/png": "[encoded data removed]",
      "text/plain": [
       "<Figure size 720x360 with 1 Axes>"
      ]
     },
     "metadata": {
      "needs_background": "light"
     },
     "output_type": "display_data"
    },
    {
     "data": {
      "image/png": "[encoded data removed]",
      "text/plain": [
       "<Figure size 720x360 with 1 Axes>"
      ]
     },
     "metadata": {
      "needs_background": "light"
     },
     "output_type": "display_data"
    },
    {
     "data": {
      "image/png": "[encoded data removed]",
      "text/plain": [
       "<Figure size 720x360 with 1 Axes>"
      ]
     },
     "metadata": {
      "needs_background": "light"
     },
     "output_type": "display_data"
    }
   ],
   "source": [
    "%%local\n",
    "\n",
    "times_to_workers = {\n",
    "    1: 127.22233605384827,\n",
    "    2: 78.24606966972351,\n",
    "    3: 62.00518345832825,\n",
    "    4: 54.501880407333374,\n",
    "    5: 49.552902936935425,\n",
    "    6: 48.22799110412598,\n",
    "    7: 42.94867563247681,\n",
    "}\n",
    "\n",
    "import matplotlib.pyplot as plt\n",
    "\n",
    "plt.figure(figsize=(10,5))\n",
    "plt.title('Czas')\n",
    "plt.plot(times_to_workers.keys(), times_to_workers.values(),  'bo')\n",
    "plt.xlabel(\"Liczba workerów\")\n",
    "plt.ylabel(\"Czas\")\n",
    "plt.show()\n",
    "\n",
    "y0 = times_to_workers[1]\n",
    "speedups = [y0/y for y in times_to_workers.values()]\n",
    "\n",
    "plt.figure(figsize=(10,5))\n",
    "plt.title('Przyspieszenie')\n",
    "plt.plot(times_to_workers.keys(), speedups,  'bo')\n",
    "plt.xlabel(\"Liczba workerów\")\n",
    "plt.ylabel(\"Przyspieszenie\")\n",
    "plt.show()\n",
    "\n",
    "efficiencies = [s/n for s, n in zip(speedups, times_to_workers.keys())]\n",
    "\n",
    "plt.figure(figsize=(10,5))\n",
    "plt.title('Efektywnośc')\n",
    "plt.plot(times_to_workers.keys(), efficiencies,  'bo')\n",
    "plt.xlabel(\"Liczba workerów\")\n",
    "plt.ylabel(\"Efektywnośc\")\n",
    "plt.show()"
   ]
  },
  {
   "cell_type": "code",
   "execution_count": null,
   "id": "7c2c5373",
   "metadata": {},
   "outputs": [],
   "source": []
  },
  {
   "cell_type": "code",
   "execution_count": null,
   "id": "54a1cede",
   "metadata": {},
   "outputs": [],
   "source": []
  },
  {
   "cell_type": "code",
   "execution_count": null,
   "id": "b3decb2e",
   "metadata": {},
   "outputs": [],
   "source": []
  },
  {
   "cell_type": "markdown",
   "id": "2ff087d9",
   "metadata": {},
   "source": [
    "# 6"
   ]
  },
  {
   "cell_type": "code",
   "execution_count": null,
   "id": "c41dfd72",
   "metadata": {},
   "outputs": [],
   "source": []
  }
 ],
 "metadata": {
  "kernelspec": {
   "display_name": "Python 3 (ipykernel)",
   "language": "python",
   "name": "python3"
  },
  "language_info": {
   "codemirror_mode": {
    "name": "ipython",
    "version": 3
   },
   "file_extension": ".py",
   "mimetype": "text/x-python",
   "name": "python",
   "nbconvert_exporter": "python",
   "pygments_lexer": "ipython3",
   "version": "3.11.4"
  }
 },
 "nbformat": 4,
 "nbformat_minor": 5
}
